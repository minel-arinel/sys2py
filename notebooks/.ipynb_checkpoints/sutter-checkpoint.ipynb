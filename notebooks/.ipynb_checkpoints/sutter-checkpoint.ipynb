{
 "cells": [
  {
   "cell_type": "code",
   "execution_count": 46,
   "metadata": {},
   "outputs": [
    {
     "name": "stdout",
     "output_type": "stream",
     "text": [
      "The autoreload extension is already loaded. To reload it, use:\n",
      "  %reload_ext autoreload\n"
     ]
    }
   ],
   "source": [
    "%load_ext autoreload\n",
    "%autoreload 2\n",
    "\n",
    "import sys\n",
    "sys.path.append(r'C:\\Users\\fish\\sys2py')\n",
    "\n",
    "from sys2py import *"
   ]
  },
  {
   "cell_type": "markdown",
   "metadata": {},
   "source": [
    "## Create Sutter"
   ]
  },
  {
   "cell_type": "code",
   "execution_count": 2,
   "metadata": {},
   "outputs": [],
   "source": [
    "name = 'sutter'\n",
    "system = 'MP-865'\n",
    "port = 'Sutter'\n",
    "verbose = True\n",
    "sutter_path = r'C:\\Users\\fish\\sutter\\sutter.json'"
   ]
  },
  {
   "cell_type": "code",
   "execution_count": 3,
   "metadata": {},
   "outputs": [
    {
     "name": "stdout",
     "output_type": "stream",
     "text": [
      "Serial<id=0x25a14d8ae80, open=True>(port='COM10', baudrate=128000, bytesize=8, parity='N', stopbits=1, timeout=5, xonxoff=False, rtscts=False, dsrdtr=False)\n"
     ]
    }
   ],
   "source": [
    "sutter = Sutter(name=name, system=system, port=port, verbose=verbose)"
   ]
  },
  {
   "cell_type": "code",
   "execution_count": 4,
   "metadata": {},
   "outputs": [
    {
     "name": "stdout",
     "output_type": "stream",
     "text": [
      "Saved System: C:\\Users\\fish\\sutter\\sutter.json\n"
     ]
    }
   ],
   "source": [
    "sutter.save(sutter_path)"
   ]
  },
  {
   "cell_type": "code",
   "execution_count": 5,
   "metadata": {},
   "outputs": [
    {
     "name": "stdout",
     "output_type": "stream",
     "text": [
      "Connection to the system closed\n"
     ]
    }
   ],
   "source": [
    "sutter.destroy()"
   ]
  },
  {
   "cell_type": "markdown",
   "metadata": {},
   "source": [
    "## Load Sutter"
   ]
  },
  {
   "cell_type": "code",
   "execution_count": 6,
   "metadata": {},
   "outputs": [
    {
     "name": "stdout",
     "output_type": "stream",
     "text": [
      "Serial<id=0x25a14de29b0, open=True>(port='COM10', baudrate=128000, bytesize=8, parity='N', stopbits=1, timeout=5, xonxoff=False, rtscts=False, dsrdtr=False)\n"
     ]
    }
   ],
   "source": [
    "sutter_path = r'C:\\Users\\fish\\sutter\\sutter.json'\n",
    "sutter = Sutter(sutter_path)"
   ]
  },
  {
   "cell_type": "code",
   "execution_count": 7,
   "metadata": {},
   "outputs": [
    {
     "name": "stdout",
     "output_type": "stream",
     "text": [
      "Connection to the system closed\n"
     ]
    }
   ],
   "source": [
    "sutter.destroy()"
   ]
  },
  {
   "cell_type": "markdown",
   "metadata": {},
   "source": [
    "## Create Protocol"
   ]
  },
  {
   "cell_type": "code",
   "execution_count": 2,
   "metadata": {},
   "outputs": [],
   "source": [
    "sutter_path = r'C:\\Users\\fish\\sutter\\sutter.json'\n",
    "prot = Protocol()"
   ]
  },
  {
   "cell_type": "code",
   "execution_count": 3,
   "metadata": {},
   "outputs": [
    {
     "name": "stdout",
     "output_type": "stream",
     "text": [
      "Serial<id=0x1ece9aeeb70, open=True>(port='COM10', baudrate=128000, bytesize=8, parity='N', stopbits=1, timeout=5, xonxoff=False, rtscts=False, dsrdtr=False)\n"
     ]
    }
   ],
   "source": [
    "prot.add_system(sutter_path, overwrite=True)"
   ]
  },
  {
   "cell_type": "code",
   "execution_count": 4,
   "metadata": {},
   "outputs": [
    {
     "name": "stdout",
     "output_type": "stream",
     "text": [
      "Current position x: 0, y: 20, z: 0\n",
      "Moved to (0, 30, 0)\n",
      "Current position x: 0, y: 30, z: 0\n",
      "Position of type abs is added to the protocol: (0, 30, 0)\n"
     ]
    }
   ],
   "source": [
    "prot.sutter.move_to_relative_pos((0, 10, 0))\n",
    "prot.add_curr_coords(coord_type='abs', duration=3)"
   ]
  },
  {
   "cell_type": "code",
   "execution_count": 5,
   "metadata": {},
   "outputs": [
    {
     "name": "stdout",
     "output_type": "stream",
     "text": [
      "Position of type rel is added to the protocol: (2, 10, 3)\n",
      "Position of type rel is added to the protocol: (2, 10, 3)\n",
      "Position of type rel is added to the protocol: (2, 10, 3)\n",
      "Position of type rel is added to the protocol: (2, 10, 3)\n",
      "Position of type rel is added to the protocol: (2, 10, 3)\n",
      "Position of type rel is added to the protocol: (2, 10, 3)\n",
      "Position of type rel is added to the protocol: (2, 10, 3)\n",
      "Position of type rel is added to the protocol: (2, 10, 3)\n",
      "Position of type rel is added to the protocol: (2, 10, 3)\n",
      "Position of type rel is added to the protocol: (2, 10, 3)\n"
     ]
    }
   ],
   "source": [
    "for i in range(10):\n",
    "    prot.add_rel_coords((2, 10, 3), duration=2)"
   ]
  },
  {
   "cell_type": "code",
   "execution_count": 6,
   "metadata": {},
   "outputs": [
    {
     "data": {
      "text/html": [
       "<div>\n",
       "<style scoped>\n",
       "    .dataframe tbody tr th:only-of-type {\n",
       "        vertical-align: middle;\n",
       "    }\n",
       "\n",
       "    .dataframe tbody tr th {\n",
       "        vertical-align: top;\n",
       "    }\n",
       "\n",
       "    .dataframe thead th {\n",
       "        text-align: right;\n",
       "    }\n",
       "</style>\n",
       "<table border=\"1\" class=\"dataframe\">\n",
       "  <thead>\n",
       "    <tr style=\"text-align: right;\">\n",
       "      <th></th>\n",
       "      <th>system</th>\n",
       "      <th>coord_type</th>\n",
       "      <th>coordinates</th>\n",
       "      <th>duration</th>\n",
       "    </tr>\n",
       "  </thead>\n",
       "  <tbody>\n",
       "    <tr>\n",
       "      <th>0</th>\n",
       "      <td>sutter</td>\n",
       "      <td>abs</td>\n",
       "      <td>(0, 30, 0)</td>\n",
       "      <td>3</td>\n",
       "    </tr>\n",
       "    <tr>\n",
       "      <th>1</th>\n",
       "      <td>sutter</td>\n",
       "      <td>rel</td>\n",
       "      <td>(2, 10, 3)</td>\n",
       "      <td>2</td>\n",
       "    </tr>\n",
       "    <tr>\n",
       "      <th>2</th>\n",
       "      <td>sutter</td>\n",
       "      <td>rel</td>\n",
       "      <td>(2, 10, 3)</td>\n",
       "      <td>2</td>\n",
       "    </tr>\n",
       "    <tr>\n",
       "      <th>3</th>\n",
       "      <td>sutter</td>\n",
       "      <td>rel</td>\n",
       "      <td>(2, 10, 3)</td>\n",
       "      <td>2</td>\n",
       "    </tr>\n",
       "    <tr>\n",
       "      <th>4</th>\n",
       "      <td>sutter</td>\n",
       "      <td>rel</td>\n",
       "      <td>(2, 10, 3)</td>\n",
       "      <td>2</td>\n",
       "    </tr>\n",
       "    <tr>\n",
       "      <th>5</th>\n",
       "      <td>sutter</td>\n",
       "      <td>rel</td>\n",
       "      <td>(2, 10, 3)</td>\n",
       "      <td>2</td>\n",
       "    </tr>\n",
       "    <tr>\n",
       "      <th>6</th>\n",
       "      <td>sutter</td>\n",
       "      <td>rel</td>\n",
       "      <td>(2, 10, 3)</td>\n",
       "      <td>2</td>\n",
       "    </tr>\n",
       "    <tr>\n",
       "      <th>7</th>\n",
       "      <td>sutter</td>\n",
       "      <td>rel</td>\n",
       "      <td>(2, 10, 3)</td>\n",
       "      <td>2</td>\n",
       "    </tr>\n",
       "    <tr>\n",
       "      <th>8</th>\n",
       "      <td>sutter</td>\n",
       "      <td>rel</td>\n",
       "      <td>(2, 10, 3)</td>\n",
       "      <td>2</td>\n",
       "    </tr>\n",
       "    <tr>\n",
       "      <th>9</th>\n",
       "      <td>sutter</td>\n",
       "      <td>rel</td>\n",
       "      <td>(2, 10, 3)</td>\n",
       "      <td>2</td>\n",
       "    </tr>\n",
       "    <tr>\n",
       "      <th>10</th>\n",
       "      <td>sutter</td>\n",
       "      <td>rel</td>\n",
       "      <td>(2, 10, 3)</td>\n",
       "      <td>2</td>\n",
       "    </tr>\n",
       "  </tbody>\n",
       "</table>\n",
       "</div>"
      ],
      "text/plain": [
       "    system coord_type coordinates  duration\n",
       "0   sutter        abs  (0, 30, 0)         3\n",
       "1   sutter        rel  (2, 10, 3)         2\n",
       "2   sutter        rel  (2, 10, 3)         2\n",
       "3   sutter        rel  (2, 10, 3)         2\n",
       "4   sutter        rel  (2, 10, 3)         2\n",
       "5   sutter        rel  (2, 10, 3)         2\n",
       "6   sutter        rel  (2, 10, 3)         2\n",
       "7   sutter        rel  (2, 10, 3)         2\n",
       "8   sutter        rel  (2, 10, 3)         2\n",
       "9   sutter        rel  (2, 10, 3)         2\n",
       "10  sutter        rel  (2, 10, 3)         2"
      ]
     },
     "execution_count": 6,
     "metadata": {},
     "output_type": "execute_result"
    }
   ],
   "source": [
    "df = prot.protocol_df()\n",
    "df"
   ]
  },
  {
   "cell_type": "code",
   "execution_count": 16,
   "metadata": {},
   "outputs": [
    {
     "name": "stdout",
     "output_type": "stream",
     "text": [
      "Current position x: 0, y: 10, z: 0\n",
      "Moved to (0, 10, 0)\n",
      "Current position x: 0, y: 10, z: 0\n",
      "Moved to (2, 20, 3)\n",
      "Current position x: 2, y: 20, z: 3\n",
      "Moved to (4, 30, 6)\n",
      "Current position x: 4, y: 30, z: 6\n",
      "Moved to (6, 40, 9)\n",
      "Current position x: 6, y: 40, z: 9\n",
      "Moved to (8, 50, 12)\n",
      "Current position x: 8, y: 50, z: 12\n",
      "Moved to (10, 60, 15)\n",
      "Current position x: 10, y: 60, z: 15\n",
      "Moved to (12, 70, 18)\n",
      "Current position x: 12, y: 70, z: 18\n",
      "Moved to (14, 80, 21)\n",
      "Current position x: 14, y: 80, z: 21\n",
      "Moved to (16, 90, 24)\n",
      "Current position x: 16, y: 90, z: 24\n",
      "Moved to (18, 100, 27)\n",
      "Current position x: 18, y: 100, z: 27\n",
      "Moved to (20, 110, 30)\n",
      "Moved to (0, 10, 0)\n"
     ]
    }
   ],
   "source": [
    "prot.preview_path()"
   ]
  },
  {
   "cell_type": "code",
   "execution_count": 7,
   "metadata": {},
   "outputs": [
    {
     "name": "stdout",
     "output_type": "stream",
     "text": [
      "Saved C:\\Users\\fish\\sutter\\protocol.json\n",
      "Saved C:\\Users\\fish\\sutter\\sys_settings.json\n"
     ]
    }
   ],
   "source": [
    "prot_path = r'C:\\Users\\fish\\sutter'\n",
    "prot.save(prot_path)"
   ]
  },
  {
   "cell_type": "markdown",
   "metadata": {},
   "source": [
    "## Run a protocol"
   ]
  },
  {
   "cell_type": "code",
   "execution_count": 2,
   "metadata": {},
   "outputs": [],
   "source": [
    "path = r'C:\\Users\\fish\\sutter'"
   ]
  },
  {
   "cell_type": "code",
   "execution_count": 3,
   "metadata": {},
   "outputs": [
    {
     "name": "stdout",
     "output_type": "stream",
     "text": [
      "Serial<id=0x1f1ba97cb00, open=True>(port='COM10', baudrate=128000, bytesize=8, parity='N', stopbits=1, timeout=5, xonxoff=False, rtscts=False, dsrdtr=False)\n"
     ]
    }
   ],
   "source": [
    "prot = Protocol(path=path)"
   ]
  },
  {
   "cell_type": "code",
   "execution_count": 7,
   "metadata": {},
   "outputs": [
    {
     "data": {
      "text/html": [
       "<div>\n",
       "<style scoped>\n",
       "    .dataframe tbody tr th:only-of-type {\n",
       "        vertical-align: middle;\n",
       "    }\n",
       "\n",
       "    .dataframe tbody tr th {\n",
       "        vertical-align: top;\n",
       "    }\n",
       "\n",
       "    .dataframe thead th {\n",
       "        text-align: right;\n",
       "    }\n",
       "</style>\n",
       "<table border=\"1\" class=\"dataframe\">\n",
       "  <thead>\n",
       "    <tr style=\"text-align: right;\">\n",
       "      <th></th>\n",
       "      <th>system</th>\n",
       "      <th>coord_type</th>\n",
       "      <th>coordinates</th>\n",
       "      <th>duration</th>\n",
       "    </tr>\n",
       "  </thead>\n",
       "  <tbody>\n",
       "    <tr>\n",
       "      <th>0</th>\n",
       "      <td>sutter</td>\n",
       "      <td>abs</td>\n",
       "      <td>[0, 30, 0]</td>\n",
       "      <td>3</td>\n",
       "    </tr>\n",
       "    <tr>\n",
       "      <th>1</th>\n",
       "      <td>sutter</td>\n",
       "      <td>rel</td>\n",
       "      <td>[2, 10, 3]</td>\n",
       "      <td>2</td>\n",
       "    </tr>\n",
       "    <tr>\n",
       "      <th>2</th>\n",
       "      <td>sutter</td>\n",
       "      <td>rel</td>\n",
       "      <td>[2, 10, 3]</td>\n",
       "      <td>2</td>\n",
       "    </tr>\n",
       "    <tr>\n",
       "      <th>3</th>\n",
       "      <td>sutter</td>\n",
       "      <td>rel</td>\n",
       "      <td>[2, 10, 3]</td>\n",
       "      <td>2</td>\n",
       "    </tr>\n",
       "    <tr>\n",
       "      <th>4</th>\n",
       "      <td>sutter</td>\n",
       "      <td>rel</td>\n",
       "      <td>[2, 10, 3]</td>\n",
       "      <td>2</td>\n",
       "    </tr>\n",
       "    <tr>\n",
       "      <th>5</th>\n",
       "      <td>sutter</td>\n",
       "      <td>rel</td>\n",
       "      <td>[2, 10, 3]</td>\n",
       "      <td>2</td>\n",
       "    </tr>\n",
       "    <tr>\n",
       "      <th>6</th>\n",
       "      <td>sutter</td>\n",
       "      <td>rel</td>\n",
       "      <td>[2, 10, 3]</td>\n",
       "      <td>2</td>\n",
       "    </tr>\n",
       "    <tr>\n",
       "      <th>7</th>\n",
       "      <td>sutter</td>\n",
       "      <td>rel</td>\n",
       "      <td>[2, 10, 3]</td>\n",
       "      <td>2</td>\n",
       "    </tr>\n",
       "    <tr>\n",
       "      <th>8</th>\n",
       "      <td>sutter</td>\n",
       "      <td>rel</td>\n",
       "      <td>[2, 10, 3]</td>\n",
       "      <td>2</td>\n",
       "    </tr>\n",
       "    <tr>\n",
       "      <th>9</th>\n",
       "      <td>sutter</td>\n",
       "      <td>rel</td>\n",
       "      <td>[2, 10, 3]</td>\n",
       "      <td>2</td>\n",
       "    </tr>\n",
       "    <tr>\n",
       "      <th>10</th>\n",
       "      <td>sutter</td>\n",
       "      <td>rel</td>\n",
       "      <td>[2, 10, 3]</td>\n",
       "      <td>2</td>\n",
       "    </tr>\n",
       "  </tbody>\n",
       "</table>\n",
       "</div>"
      ],
      "text/plain": [
       "    system coord_type coordinates  duration\n",
       "0   sutter        abs  [0, 30, 0]         3\n",
       "1   sutter        rel  [2, 10, 3]         2\n",
       "2   sutter        rel  [2, 10, 3]         2\n",
       "3   sutter        rel  [2, 10, 3]         2\n",
       "4   sutter        rel  [2, 10, 3]         2\n",
       "5   sutter        rel  [2, 10, 3]         2\n",
       "6   sutter        rel  [2, 10, 3]         2\n",
       "7   sutter        rel  [2, 10, 3]         2\n",
       "8   sutter        rel  [2, 10, 3]         2\n",
       "9   sutter        rel  [2, 10, 3]         2\n",
       "10  sutter        rel  [2, 10, 3]         2"
      ]
     },
     "execution_count": 7,
     "metadata": {},
     "output_type": "execute_result"
    }
   ],
   "source": [
    "prot.protocol_df()"
   ]
  },
  {
   "cell_type": "code",
   "execution_count": 8,
   "metadata": {},
   "outputs": [
    {
     "name": "stdout",
     "output_type": "stream",
     "text": [
      "Current position x: 0, y: 30, z: 0\n",
      "Moved to [0, 30, 0]\n",
      "Current position x: 0, y: 30, z: 0\n",
      "Moved to (2, 40, 3)\n",
      "Current position x: 2, y: 40, z: 3\n",
      "Moved to (4, 50, 6)\n",
      "Current position x: 4, y: 50, z: 6\n",
      "Moved to (6, 60, 9)\n",
      "Current position x: 6, y: 60, z: 9\n",
      "Moved to (8, 70, 12)\n",
      "Current position x: 8, y: 70, z: 12\n",
      "Moved to (10, 80, 15)\n",
      "Current position x: 10, y: 80, z: 15\n",
      "Moved to (12, 90, 18)\n",
      "Current position x: 12, y: 90, z: 18\n",
      "Moved to (14, 100, 21)\n",
      "Current position x: 14, y: 100, z: 21\n",
      "Moved to (16, 110, 24)\n",
      "Current position x: 16, y: 110, z: 24\n",
      "Moved to (18, 120, 27)\n",
      "Current position x: 18, y: 120, z: 27\n",
      "Moved to (20, 130, 30)\n",
      "Moved to (0, 30, 0)\n"
     ]
    }
   ],
   "source": [
    "prot.preview_path()"
   ]
  },
  {
   "cell_type": "code",
   "execution_count": null,
   "metadata": {},
   "outputs": [],
   "source": []
  },
  {
   "cell_type": "code",
   "execution_count": null,
   "metadata": {},
   "outputs": [],
   "source": [
    "# WORK ON RUNNING THE ACTUAL PROTOCOL WITH DURATIONS AND OTHER SYSTEMS"
   ]
  },
  {
   "cell_type": "markdown",
   "metadata": {},
   "source": [
    "## Create Doric"
   ]
  },
  {
   "cell_type": "code",
   "execution_count": 2,
   "metadata": {},
   "outputs": [],
   "source": [
    "%load_ext autoreload\n",
    "%autoreload 2\n",
    "from doric import *"
   ]
  },
  {
   "cell_type": "code",
   "execution_count": 10,
   "metadata": {},
   "outputs": [],
   "source": [
    "name = 'doric'\n",
    "system = 'LEDFLS_595'\n",
    "port = 'Arduino'\n",
    "pin_write = 'd:3:o'\n",
    "pin_read = 'a:5:i'\n",
    "verbose = True\n",
    "doric_path = r'C:\\Users\\fish\\sutter\\doric.json'"
   ]
  },
  {
   "cell_type": "code",
   "execution_count": 11,
   "metadata": {
    "scrolled": false
   },
   "outputs": [
    {
     "name": "stdout",
     "output_type": "stream",
     "text": [
      "Arduino COM9 on COM9\n",
      "Digital pin 3\n",
      "Analog pin 5\n"
     ]
    }
   ],
   "source": [
    "doric = Doric(name=name, system=system, port=port, pin_defs=[pin_write, pin_read], verbose=verbose)"
   ]
  },
  {
   "cell_type": "code",
   "execution_count": 12,
   "metadata": {},
   "outputs": [
    {
     "name": "stdout",
     "output_type": "stream",
     "text": [
      "Saved System: C:\\Users\\fish\\sutter\\doric.json\n"
     ]
    }
   ],
   "source": [
    "doric.save(doric_path)"
   ]
  },
  {
   "cell_type": "code",
   "execution_count": 13,
   "metadata": {},
   "outputs": [
    {
     "name": "stdout",
     "output_type": "stream",
     "text": [
      "Connection to the system closed\n"
     ]
    }
   ],
   "source": [
    "doric.destroy()"
   ]
  },
  {
   "cell_type": "markdown",
   "metadata": {},
   "source": [
    "## Load Doric"
   ]
  },
  {
   "cell_type": "code",
   "execution_count": 3,
   "metadata": {},
   "outputs": [
    {
     "name": "stdout",
     "output_type": "stream",
     "text": [
      "Arduino COM9 on COM9\n",
      "Digital pin 3\n",
      "Analog pin 5\n"
     ]
    }
   ],
   "source": [
    "doric_path = r'C:\\Users\\fish\\sutter\\doric.json'\n",
    "doric = Doric(doric_path)"
   ]
  },
  {
   "cell_type": "code",
   "execution_count": 4,
   "metadata": {},
   "outputs": [],
   "source": [
    "pin_w = doric.pins[0]\n",
    "pin_r = doric.pins[1]"
   ]
  },
  {
   "cell_type": "code",
   "execution_count": 5,
   "metadata": {},
   "outputs": [
    {
     "data": {
      "text/plain": [
       "0.0"
      ]
     },
     "execution_count": 5,
     "metadata": {},
     "output_type": "execute_result"
    }
   ],
   "source": [
    "pin_r.read()"
   ]
  },
  {
   "cell_type": "code",
   "execution_count": 6,
   "metadata": {},
   "outputs": [],
   "source": [
    "pin_w.write(1)"
   ]
  },
  {
   "cell_type": "code",
   "execution_count": 7,
   "metadata": {},
   "outputs": [
    {
     "data": {
      "text/plain": [
       "0.4956"
      ]
     },
     "execution_count": 7,
     "metadata": {},
     "output_type": "execute_result"
    }
   ],
   "source": [
    "pin_r.read()"
   ]
  },
  {
   "cell_type": "code",
   "execution_count": 8,
   "metadata": {},
   "outputs": [],
   "source": [
    "pin_w.write(0)"
   ]
  },
  {
   "cell_type": "code",
   "execution_count": 9,
   "metadata": {},
   "outputs": [
    {
     "data": {
      "text/plain": [
       "0.0"
      ]
     },
     "execution_count": 9,
     "metadata": {},
     "output_type": "execute_result"
    }
   ],
   "source": [
    "pin_r.read()"
   ]
  },
  {
   "cell_type": "code",
   "execution_count": 10,
   "metadata": {},
   "outputs": [
    {
     "name": "stdout",
     "output_type": "stream",
     "text": [
      "Connection to the system closed\n"
     ]
    }
   ],
   "source": [
    "doric.destroy()"
   ]
  },
  {
   "cell_type": "code",
   "execution_count": 13,
   "metadata": {},
   "outputs": [
    {
     "data": {
      "text/html": [
       "<div>\n",
       "<style scoped>\n",
       "    .dataframe tbody tr th:only-of-type {\n",
       "        vertical-align: middle;\n",
       "    }\n",
       "\n",
       "    .dataframe tbody tr th {\n",
       "        vertical-align: top;\n",
       "    }\n",
       "\n",
       "    .dataframe thead th {\n",
       "        text-align: right;\n",
       "    }\n",
       "</style>\n",
       "<table border=\"1\" class=\"dataframe\">\n",
       "  <thead>\n",
       "    <tr style=\"text-align: right;\">\n",
       "      <th></th>\n",
       "      <th>micronRange</th>\n",
       "      <th>micronToStep</th>\n",
       "      <th>speed</th>\n",
       "      <th>stepRange</th>\n",
       "      <th>stepToMicron</th>\n",
       "    </tr>\n",
       "  </thead>\n",
       "  <tbody>\n",
       "    <tr>\n",
       "      <th>MP-865</th>\n",
       "      <td>(50000, 12500, 25000)</td>\n",
       "      <td>21.3333</td>\n",
       "      <td>(3, 4.2, 5.1)</td>\n",
       "      <td>(533334, 133334, 266667)</td>\n",
       "      <td>0.046875</td>\n",
       "    </tr>\n",
       "    <tr>\n",
       "      <th>MP-245</th>\n",
       "      <td>(25000, 25000, 25000)</td>\n",
       "      <td>21.3333</td>\n",
       "      <td>(3, 4.2, 5.1)</td>\n",
       "      <td>(266667, 266667, 266667)</td>\n",
       "      <td>0.046875</td>\n",
       "    </tr>\n",
       "    <tr>\n",
       "      <th>MP-845</th>\n",
       "      <td>(25000, 25000, 25000)</td>\n",
       "      <td>21.3333</td>\n",
       "      <td>(3, 4.2, 5.1)</td>\n",
       "      <td>(266667, 266667, 266667)</td>\n",
       "      <td>0.046875</td>\n",
       "    </tr>\n",
       "    <tr>\n",
       "      <th>MP-265</th>\n",
       "      <td>(25000, 12500, 25000)</td>\n",
       "      <td>16</td>\n",
       "      <td>(5, 7, 8.5)</td>\n",
       "      <td>(400000, 200000, 400000)</td>\n",
       "      <td>0.0625</td>\n",
       "    </tr>\n",
       "    <tr>\n",
       "      <th>MP-285</th>\n",
       "      <td>(25000, 25000, 25000)</td>\n",
       "      <td>16</td>\n",
       "      <td>(5, 7, 8.5)</td>\n",
       "      <td>(400000, 400000, 400000)</td>\n",
       "      <td>0.0625</td>\n",
       "    </tr>\n",
       "    <tr>\n",
       "      <th>MP-225</th>\n",
       "      <td>(25000, 25000, 25000)</td>\n",
       "      <td>16</td>\n",
       "      <td>(3, 4.2, 5.1)</td>\n",
       "      <td>(400000, 400000, 400000)</td>\n",
       "      <td>0.0625</td>\n",
       "    </tr>\n",
       "  </tbody>\n",
       "</table>\n",
       "</div>"
      ],
      "text/plain": [
       "                  micronRange micronToStep          speed  \\\n",
       "MP-865  (50000, 12500, 25000)      21.3333  (3, 4.2, 5.1)   \n",
       "MP-245  (25000, 25000, 25000)      21.3333  (3, 4.2, 5.1)   \n",
       "MP-845  (25000, 25000, 25000)      21.3333  (3, 4.2, 5.1)   \n",
       "MP-265  (25000, 12500, 25000)           16    (5, 7, 8.5)   \n",
       "MP-285  (25000, 25000, 25000)           16    (5, 7, 8.5)   \n",
       "MP-225  (25000, 25000, 25000)           16  (3, 4.2, 5.1)   \n",
       "\n",
       "                       stepRange stepToMicron  \n",
       "MP-865  (533334, 133334, 266667)     0.046875  \n",
       "MP-245  (266667, 266667, 266667)     0.046875  \n",
       "MP-845  (266667, 266667, 266667)     0.046875  \n",
       "MP-265  (400000, 200000, 400000)       0.0625  \n",
       "MP-285  (400000, 400000, 400000)       0.0625  \n",
       "MP-225  (400000, 400000, 400000)       0.0625  "
      ]
     },
     "execution_count": 13,
     "metadata": {},
     "output_type": "execute_result"
    }
   ],
   "source": [
    "sutter.sutter_systems(df=True)"
   ]
  },
  {
   "cell_type": "code",
   "execution_count": 5,
   "metadata": {},
   "outputs": [
    {
     "ename": "ModuleNotFoundError",
     "evalue": "No module named 'sys2Py'",
     "output_type": "error",
     "traceback": [
      "\u001b[1;31m---------------------------------------------------------------------------\u001b[0m",
      "\u001b[1;31mModuleNotFoundError\u001b[0m                       Traceback (most recent call last)",
      "\u001b[1;32m<ipython-input-5-776e709eb1ac>\u001b[0m in \u001b[0;36m<module>\u001b[1;34m\u001b[0m\n\u001b[1;32m----> 1\u001b[1;33m \u001b[1;32mimport\u001b[0m \u001b[0mutils\u001b[0m\u001b[1;33m.\u001b[0m\u001b[0msutter_utils\u001b[0m\u001b[1;33m\u001b[0m\u001b[1;33m\u001b[0m\u001b[0m\n\u001b[0m",
      "\u001b[1;32m~\\sys2Py\\utils\\sutter_utils.py\u001b[0m in \u001b[0;36m<module>\u001b[1;34m\u001b[0m\n\u001b[0;32m      1\u001b[0m \u001b[1;32mimport\u001b[0m \u001b[0msys\u001b[0m\u001b[1;33m\u001b[0m\u001b[1;33m\u001b[0m\u001b[0m\n\u001b[1;32m----> 2\u001b[1;33m \u001b[1;32mfrom\u001b[0m \u001b[0msys2Py\u001b[0m \u001b[1;32mimport\u001b[0m \u001b[0mprotocol\u001b[0m\u001b[1;33m\u001b[0m\u001b[1;33m\u001b[0m\u001b[0m\n\u001b[0m",
      "\u001b[1;31mModuleNotFoundError\u001b[0m: No module named 'sys2Py'"
     ]
    }
   ],
   "source": [
    "import utils.sutter_utils"
   ]
  },
  {
   "cell_type": "code",
   "execution_count": null,
   "metadata": {},
   "outputs": [],
   "source": []
  },
  {
   "cell_type": "code",
   "execution_count": 17,
   "metadata": {},
   "outputs": [],
   "source": [
    "json_path = r'C:\\Users\\fish\\sys2py\\json_files'"
   ]
  },
  {
   "cell_type": "code",
   "execution_count": 24,
   "metadata": {},
   "outputs": [
    {
     "ename": "FileNotFoundError",
     "evalue": "protocol.json does not exist in directory",
     "output_type": "error",
     "traceback": [
      "\u001b[1;31m---------------------------------------------------------------------------\u001b[0m",
      "\u001b[1;31mFileNotFoundError\u001b[0m                         Traceback (most recent call last)",
      "\u001b[1;32m<ipython-input-24-6b3afaeeb2ee>\u001b[0m in \u001b[0;36m<module>\u001b[1;34m\u001b[0m\n\u001b[1;32m----> 1\u001b[1;33m \u001b[0mprot\u001b[0m \u001b[1;33m=\u001b[0m \u001b[0mProtocol\u001b[0m\u001b[1;33m(\u001b[0m\u001b[0mpath\u001b[0m\u001b[1;33m=\u001b[0m\u001b[0mjson_path\u001b[0m\u001b[1;33m)\u001b[0m\u001b[1;33m\u001b[0m\u001b[1;33m\u001b[0m\u001b[0m\n\u001b[0m",
      "\u001b[1;32m~\\sys2py\\sys2py\\protocol\\protocol.py\u001b[0m in \u001b[0;36m__init__\u001b[1;34m(self, path, protocol, sys_settings, verbose)\u001b[0m\n\u001b[0;32m     14\u001b[0m \u001b[1;33m\u001b[0m\u001b[0m\n\u001b[0;32m     15\u001b[0m         \u001b[1;32mif\u001b[0m \u001b[0mos\u001b[0m\u001b[1;33m.\u001b[0m\u001b[0mpath\u001b[0m\u001b[1;33m.\u001b[0m\u001b[0mexists\u001b[0m\u001b[1;33m(\u001b[0m\u001b[0mpath\u001b[0m\u001b[1;33m)\u001b[0m\u001b[1;33m:\u001b[0m\u001b[1;33m\u001b[0m\u001b[1;33m\u001b[0m\u001b[0m\n\u001b[1;32m---> 16\u001b[1;33m             \u001b[0mself\u001b[0m\u001b[1;33m.\u001b[0m\u001b[0mload\u001b[0m\u001b[1;33m(\u001b[0m\u001b[0mpath\u001b[0m\u001b[1;33m)\u001b[0m\u001b[1;33m\u001b[0m\u001b[1;33m\u001b[0m\u001b[0m\n\u001b[0m\u001b[0;32m     17\u001b[0m             \u001b[0mself\u001b[0m\u001b[1;33m.\u001b[0m\u001b[0minit_protocol\u001b[0m\u001b[1;33m(\u001b[0m\u001b[1;33m)\u001b[0m\u001b[1;33m\u001b[0m\u001b[1;33m\u001b[0m\u001b[0m\n\u001b[0;32m     18\u001b[0m         \u001b[1;32melse\u001b[0m\u001b[1;33m:\u001b[0m\u001b[1;33m\u001b[0m\u001b[1;33m\u001b[0m\u001b[0m\n",
      "\u001b[1;32m~\\sys2py\\sys2py\\protocol\\protocol.py\u001b[0m in \u001b[0;36mload\u001b[1;34m(self, path)\u001b[0m\n\u001b[0;32m     44\u001b[0m \u001b[1;33m\u001b[0m\u001b[0m\n\u001b[0;32m     45\u001b[0m             \u001b[1;32mif\u001b[0m \u001b[1;32mnot\u001b[0m \u001b[0mprotocol_exists\u001b[0m\u001b[1;33m:\u001b[0m\u001b[1;33m\u001b[0m\u001b[1;33m\u001b[0m\u001b[0m\n\u001b[1;32m---> 46\u001b[1;33m                 \u001b[1;32mraise\u001b[0m \u001b[0mFileNotFoundError\u001b[0m\u001b[1;33m(\u001b[0m\u001b[1;34m'protocol.json does not exist in directory'\u001b[0m\u001b[1;33m)\u001b[0m\u001b[1;33m\u001b[0m\u001b[1;33m\u001b[0m\u001b[0m\n\u001b[0m\u001b[0;32m     47\u001b[0m             \u001b[1;32melif\u001b[0m \u001b[1;32mnot\u001b[0m \u001b[0msys_settings_exists\u001b[0m\u001b[1;33m:\u001b[0m\u001b[1;33m\u001b[0m\u001b[1;33m\u001b[0m\u001b[0m\n\u001b[0;32m     48\u001b[0m                 \u001b[1;32mraise\u001b[0m \u001b[0mFileNotFoundError\u001b[0m\u001b[1;33m(\u001b[0m\u001b[1;34m'sys_settings.json does not exist in directory'\u001b[0m\u001b[1;33m)\u001b[0m\u001b[1;33m\u001b[0m\u001b[1;33m\u001b[0m\u001b[0m\n",
      "\u001b[1;31mFileNotFoundError\u001b[0m: protocol.json does not exist in directory"
     ]
    }
   ],
   "source": [
    "prot = Protocol(path=json_path)"
   ]
  },
  {
   "cell_type": "code",
   "execution_count": 22,
   "metadata": {},
   "outputs": [
    {
     "data": {
      "text/html": [
       "<div>\n",
       "<style scoped>\n",
       "    .dataframe tbody tr th:only-of-type {\n",
       "        vertical-align: middle;\n",
       "    }\n",
       "\n",
       "    .dataframe tbody tr th {\n",
       "        vertical-align: top;\n",
       "    }\n",
       "\n",
       "    .dataframe thead th {\n",
       "        text-align: right;\n",
       "    }\n",
       "</style>\n",
       "<table border=\"1\" class=\"dataframe\">\n",
       "  <thead>\n",
       "    <tr style=\"text-align: right;\">\n",
       "      <th></th>\n",
       "      <th>system</th>\n",
       "      <th>coord_type</th>\n",
       "      <th>coordinates</th>\n",
       "      <th>duration</th>\n",
       "    </tr>\n",
       "  </thead>\n",
       "  <tbody>\n",
       "  </tbody>\n",
       "</table>\n",
       "</div>"
      ],
      "text/plain": [
       "Empty DataFrame\n",
       "Columns: [system, coord_type, coordinates, duration]\n",
       "Index: []"
      ]
     },
     "execution_count": 22,
     "metadata": {},
     "output_type": "execute_result"
    }
   ],
   "source": [
    "import pandas as pd\n",
    "pd.DataFrame({'system': [],\n",
    "                                              'coord_type': [],\n",
    "                                              'coordinates': [],\n",
    "                                              'duration': []})"
   ]
  },
  {
   "cell_type": "code",
   "execution_count": 35,
   "metadata": {
    "scrolled": true
   },
   "outputs": [],
   "source": [
    "from sys2py.systems import system"
   ]
  },
  {
   "cell_type": "code",
   "execution_count": 36,
   "metadata": {},
   "outputs": [],
   "source": [
    "d=system.load_json(r'C:\\Users\\fish\\sys2py\\json_files\\test_protocol.json')"
   ]
  },
  {
   "cell_type": "code",
   "execution_count": 40,
   "metadata": {},
   "outputs": [
    {
     "name": "stderr",
     "output_type": "stream",
     "text": [
      "C:\\soft\\Anaconda3\\lib\\site-packages\\pandas\\core\\generic.py:1996: PerformanceWarning: \n",
      "your performance may suffer as PyTables will pickle object types that it cannot\n",
      "map directly to c-types [inferred_type->mixed,key->block1_values] [items->['system', 'coord_type', 'coordinates']]\n",
      "\n",
      "  return pytables.to_hdf(path_or_buf, key, self, **kwargs)\n"
     ]
    }
   ],
   "source": [
    "pd.DataFrame(d).to_hdf(r'C:\\Users\\fish\\sys2py\\json_files\\test_protocol.h5', key='protocol', mode='w')"
   ]
  },
  {
   "cell_type": "code",
   "execution_count": 49,
   "metadata": {},
   "outputs": [
    {
     "name": "stdout",
     "output_type": "stream",
     "text": [
      "protocol and sys_settings are loaded\n",
      "Serial<id=0x2677a8afe48, open=True>(port='COM10', baudrate=128000, bytesize=8, parity='N', stopbits=1, timeout=5, xonxoff=False, rtscts=False, dsrdtr=False)\n",
      "Initialized system sutter\n"
     ]
    }
   ],
   "source": [
    "prot = Protocol(path=json_path)"
   ]
  },
  {
   "cell_type": "code",
   "execution_count": 51,
   "metadata": {},
   "outputs": [
    {
     "data": {
      "text/html": [
       "<div>\n",
       "<style scoped>\n",
       "    .dataframe tbody tr th:only-of-type {\n",
       "        vertical-align: middle;\n",
       "    }\n",
       "\n",
       "    .dataframe tbody tr th {\n",
       "        vertical-align: top;\n",
       "    }\n",
       "\n",
       "    .dataframe thead th {\n",
       "        text-align: right;\n",
       "    }\n",
       "</style>\n",
       "<table border=\"1\" class=\"dataframe\">\n",
       "  <thead>\n",
       "    <tr style=\"text-align: right;\">\n",
       "      <th></th>\n",
       "      <th>system</th>\n",
       "      <th>coord_type</th>\n",
       "      <th>coordinates</th>\n",
       "      <th>duration</th>\n",
       "    </tr>\n",
       "  </thead>\n",
       "  <tbody>\n",
       "    <tr>\n",
       "      <th>0</th>\n",
       "      <td>sutter</td>\n",
       "      <td>abs</td>\n",
       "      <td>[0, 30, 0]</td>\n",
       "      <td>3</td>\n",
       "    </tr>\n",
       "    <tr>\n",
       "      <th>1</th>\n",
       "      <td>sutter</td>\n",
       "      <td>rel</td>\n",
       "      <td>[2, 10, 3]</td>\n",
       "      <td>2</td>\n",
       "    </tr>\n",
       "    <tr>\n",
       "      <th>2</th>\n",
       "      <td>sutter</td>\n",
       "      <td>rel</td>\n",
       "      <td>[2, 10, 3]</td>\n",
       "      <td>2</td>\n",
       "    </tr>\n",
       "    <tr>\n",
       "      <th>3</th>\n",
       "      <td>sutter</td>\n",
       "      <td>rel</td>\n",
       "      <td>[2, 10, 3]</td>\n",
       "      <td>2</td>\n",
       "    </tr>\n",
       "    <tr>\n",
       "      <th>4</th>\n",
       "      <td>sutter</td>\n",
       "      <td>rel</td>\n",
       "      <td>[2, 10, 3]</td>\n",
       "      <td>2</td>\n",
       "    </tr>\n",
       "    <tr>\n",
       "      <th>5</th>\n",
       "      <td>sutter</td>\n",
       "      <td>rel</td>\n",
       "      <td>[2, 10, 3]</td>\n",
       "      <td>2</td>\n",
       "    </tr>\n",
       "    <tr>\n",
       "      <th>6</th>\n",
       "      <td>sutter</td>\n",
       "      <td>rel</td>\n",
       "      <td>[2, 10, 3]</td>\n",
       "      <td>2</td>\n",
       "    </tr>\n",
       "    <tr>\n",
       "      <th>7</th>\n",
       "      <td>sutter</td>\n",
       "      <td>rel</td>\n",
       "      <td>[2, 10, 3]</td>\n",
       "      <td>2</td>\n",
       "    </tr>\n",
       "    <tr>\n",
       "      <th>8</th>\n",
       "      <td>sutter</td>\n",
       "      <td>rel</td>\n",
       "      <td>[2, 10, 3]</td>\n",
       "      <td>2</td>\n",
       "    </tr>\n",
       "    <tr>\n",
       "      <th>9</th>\n",
       "      <td>sutter</td>\n",
       "      <td>rel</td>\n",
       "      <td>[2, 10, 3]</td>\n",
       "      <td>2</td>\n",
       "    </tr>\n",
       "    <tr>\n",
       "      <th>10</th>\n",
       "      <td>sutter</td>\n",
       "      <td>rel</td>\n",
       "      <td>[2, 10, 3]</td>\n",
       "      <td>2</td>\n",
       "    </tr>\n",
       "  </tbody>\n",
       "</table>\n",
       "</div>"
      ],
      "text/plain": [
       "    system coord_type coordinates  duration\n",
       "0   sutter        abs  [0, 30, 0]         3\n",
       "1   sutter        rel  [2, 10, 3]         2\n",
       "2   sutter        rel  [2, 10, 3]         2\n",
       "3   sutter        rel  [2, 10, 3]         2\n",
       "4   sutter        rel  [2, 10, 3]         2\n",
       "5   sutter        rel  [2, 10, 3]         2\n",
       "6   sutter        rel  [2, 10, 3]         2\n",
       "7   sutter        rel  [2, 10, 3]         2\n",
       "8   sutter        rel  [2, 10, 3]         2\n",
       "9   sutter        rel  [2, 10, 3]         2\n",
       "10  sutter        rel  [2, 10, 3]         2"
      ]
     },
     "execution_count": 51,
     "metadata": {},
     "output_type": "execute_result"
    }
   ],
   "source": [
    "prot.protocol"
   ]
  },
  {
   "cell_type": "code",
   "execution_count": 53,
   "metadata": {},
   "outputs": [],
   "source": [
    "s = prot.sutter['sutter']"
   ]
  },
  {
   "cell_type": "code",
   "execution_count": null,
   "metadata": {},
   "outputs": [],
   "source": []
  }
 ],
 "metadata": {
  "kernelspec": {
   "display_name": "Python 3",
   "language": "python",
   "name": "python3"
  },
  "language_info": {
   "codemirror_mode": {
    "name": "ipython",
    "version": 3
   },
   "file_extension": ".py",
   "mimetype": "text/x-python",
   "name": "python",
   "nbconvert_exporter": "python",
   "pygments_lexer": "ipython3",
   "version": "3.6.7"
  }
 },
 "nbformat": 4,
 "nbformat_minor": 2
}
